{
 "cells": [
  {
   "cell_type": "code",
   "execution_count": 1,
   "id": "3da34b5c",
   "metadata": {},
   "outputs": [],
   "source": [
    "# Load essential libraries\n",
    "import pormake\n",
    "from pormake import *\n",
    "from pormake.experimental.decomposer import MOFDecomposer\n",
    "\n",
    "import ase\n",
    "\n",
    "import rodmof\n",
    "from rodmof import *\n",
    "from rodmof.rod_utils import *"
   ]
  },
  {
   "cell_type": "markdown",
   "id": "ff69b3d1",
   "metadata": {},
   "source": [
    "# How to find unique topology for wine-rack MOFs\n",
    "\n",
    "1. Use subgraph to identify building blocks (rod and edge) from raw cif files. -> Can collect indices for node and edge building blocks from give cif file \n",
    "2. Refine node_bb list manually (the list obtained from Step 1 usually contain overlapped part because of repeating characteristics of rod building blocks)\n",
    "3. Add rod metal index to edge_bb list to insert pseudo-edge between rod building block to find coordination sequence.\n",
    "4. Scratch bond information between metal rod and edges\n",
    "5. Add (metal idx, metal idx) to step 4 to endow pseudo bonds between rod building blocks\n",
    "6. Get coordination sequence \n",
    "\n",
    "* Step 1 and 4 were used using decomposer module in PORMAKE library\n",
    "* Ase gui was used to manually investigae atom indices (highly recommend to use view() function in ase.visualize module)\n",
    "* raw cif files used in this work were prepared in the \"assets\" directory"
   ]
  },
  {
   "cell_type": "markdown",
   "id": "baf1e3ce",
   "metadata": {},
   "source": [
    "## 1. Find cds\n",
    "\n",
    "coordination sequence:</br>\n",
    "vertex 1: 4, 12, 30, 58, 94, 138, 190, 250, 318, 394\n",
    "\n",
    "* Ref. - https://rcsr.anu.edu.au/nets/cds"
   ]
  },
  {
   "cell_type": "code",
   "execution_count": 2,
   "id": "5b7da046-0cab-4c1b-b526-8dde2a022e5d",
   "metadata": {},
   "outputs": [],
   "source": [
    "cif_path = \"../assets/Co_bdp.cif\""
   ]
  },
  {
   "cell_type": "code",
   "execution_count": 3,
   "id": "8ce55ff2",
   "metadata": {},
   "outputs": [
    {
     "name": "stderr",
     "output_type": "stream",
     "text": [
      "/home/lim/anaconda3/envs/test/lib/python3.8/site-packages/ase/io/cif.py:401: UserWarning: crystal system 'triclinic' is not interpreted for space group Spacegroup(1, setting=1). This may result in wrong setting!\n",
      "  warnings.warn(\n"
     ]
    }
   ],
   "source": [
    "# load MOFDecomposer module to collect indices of node building block and edge building block (Step 1)\n",
    "decomposer = MOFDecomposer(cif=cif_path)\n",
    "decomposer.cleanup()\n",
    "bbs_indices = decomposer.building_block_atom_indices\n",
    "connect_sites = decomposer.connecting_sites"
   ]
  },
  {
   "cell_type": "code",
   "execution_count": 4,
   "id": "ee996b05-673a-467e-a7e5-da0621e111f2",
   "metadata": {},
   "outputs": [],
   "source": [
    "# node bbs have > 2 connecting site\n",
    "# edge bbs have only 2 connecting site\n",
    "raw_node_indices, raw_edge_indices = [], []\n",
    "\n",
    "for bbs_index in bbs_indices:\n",
    "    n_connect = 0\n",
    "    for ind in bbs_index:\n",
    "        if ind in connect_sites:\n",
    "            n_connect+=1\n",
    "    \n",
    "    raw_edge_indices.append(bbs_index) if n_connect == 2 else raw_node_indices.append(bbs_index)"
   ]
  },
  {
   "cell_type": "code",
   "execution_count": 5,
   "id": "66d4a08d-5469-47c8-89f0-d8fab31cf38d",
   "metadata": {},
   "outputs": [
    {
     "name": "stdout",
     "output_type": "stream",
     "text": [
      "Nodes\n",
      "Indices of raw node 0: {0, 1, 2, 6, 7, 8, 9, 24, 25, 26, 30, 31, 32, 33, 48, 49, 50, 54, 55, 56, 57, 72, 73, 74, 78, 79, 80, 81, 97, 99}\n",
      "Indices of raw node 1: {12, 13, 14, 18, 19, 20, 21, 36, 37, 38, 42, 43, 44, 45, 60, 61, 62, 66, 67, 68, 69, 84, 85, 86, 90, 91, 92, 93, 96, 98}\n",
      "Edges\n",
      "Indices of raw edge 0: {64, 65, 3, 4, 5, 70, 71, 10, 11, 63}\n",
      "Indices of raw edge 1: {15, 16, 17, 51, 52, 53, 22, 23, 58, 59}\n",
      "Indices of raw edge 2: {34, 35, 87, 88, 89, 27, 28, 29, 94, 95}\n",
      "Indices of raw edge 3: {39, 40, 41, 75, 76, 77, 46, 47, 82, 83}\n"
     ]
    }
   ],
   "source": [
    "print('Nodes')\n",
    "for i, l in enumerate(raw_node_indices):\n",
    "    print(\"Indices of raw node {}: {}\".format(i, l))\n",
    "\n",
    "print('Edges')\n",
    "for i, l in enumerate(raw_edge_indices):\n",
    "    print(\"Indices of raw edge {}: {}\".format(i, l))"
   ]
  },
  {
   "cell_type": "code",
   "execution_count": 6,
   "id": "3a2d3a60-bf59-41c1-b605-66143c8759b0",
   "metadata": {},
   "outputs": [],
   "source": [
    "# indices can be easily visualized or identified using view() module of ase.visualize\n",
    "\n",
    "# node indices were manually collected (Step 2)\n",
    "_node_bb =[\n",
    "    {0, 1, 2, 6, 7, 8, 9, 48, 49, 50, 54, 55, 56, 57, 97, 99},\n",
    "    {24, 25, 26, 30, 31, 32, 33, 72, 73, 74, 78, 79, 80, 81, 97, 99},\n",
    "    {36, 37, 38, 42, 43, 44, 45, 84, 85, 86, 90, 91, 92, 93, 96, 98},\n",
    "    {12, 13, 14, 18, 19, 20, 21, 60, 61, 62, 66, 67, 68, 69, 96, 98},\n",
    "]\n",
    "\n",
    "# rod metal indices: 96, 97, 98, 99 (Step 3)\n",
    "_edge_bb = [\n",
    "    {3, 4, 5, 10, 11, 63, 64, 65, 70, 71},\n",
    "    {15, 16, 17, 22, 23, 51, 52, 53, 58, 59},\n",
    "    {27, 28, 29, 34, 35, 87, 88, 89, 94, 95},\n",
    "    {39, 40, 41, 46, 47, 75, 76, 77, 82, 83},\n",
    "    {96}, {97}, {98}, {99}, # rod metal indices\n",
    "]"
   ]
  },
  {
   "cell_type": "code",
   "execution_count": 7,
   "id": "5a6b24c2-26b9-4e4f-9cb9-eb1492c28ed2",
   "metadata": {},
   "outputs": [
    {
     "name": "stdout",
     "output_type": "stream",
     "text": [
      "Bonds\n",
      "Bond 0: (2, 3)\n",
      "Bond 1: (62, 63)\n",
      "Bond 2: (50, 51)\n",
      "Bond 3: (14, 15)\n",
      "Bond 4: (26, 27)\n",
      "Bond 5: (86, 87)\n",
      "Bond 6: (74, 75)\n",
      "Bond 7: (38, 39)\n"
     ]
    }
   ],
   "source": [
    "# Collect bond information (Step 4)\n",
    "raw_bond = decomposer.connecting_bonds\n",
    "\n",
    "print('Bonds')\n",
    "for i, l in enumerate(raw_bond):\n",
    "    print(\"Bond {}: {}\".format(i, l))"
   ]
  },
  {
   "cell_type": "code",
   "execution_count": 8,
   "id": "3a6bda7a",
   "metadata": {},
   "outputs": [],
   "source": [
    "# Add (metal idx, metal idx) as bond site (Step 5)\n",
    "_bond = [(2, 3), (62, 63), (50, 51), (14, 15), (26, 27), (86, 87), (74, 75), (38, 39), \n",
    "         (97, 97), (99, 99), (96, 96), (98, 98)]"
   ]
  },
  {
   "cell_type": "code",
   "execution_count": 9,
   "id": "0c335214",
   "metadata": {},
   "outputs": [
    {
     "name": "stdout",
     "output_type": "stream",
     "text": [
      "Coord. seq. for vertex 0: [  4  12  30  58  94 138 190 250 318 394]\n"
     ]
    }
   ],
   "source": [
    "# Get coordination sequence (Step 6)\n",
    "cobdp = ase.io.read(cif_path)\n",
    "rod_cobdp = rod_mof.RodMOF(cobdp, _node_bb, _edge_bb, _bond)\n",
    "cobdp_coord_seq = rod_cobdp.get_coord_seq()\n",
    "\n",
    "for i, l in enumerate(cobdp_coord_seq):\n",
    "    print('Coord. seq. for vertex {}: {}'.format(i, l))"
   ]
  },
  {
   "cell_type": "markdown",
   "id": "2db5acb7",
   "metadata": {},
   "source": [
    "## 2. Find dia\n",
    "\n",
    "coordination sequence:</br>\n",
    "vertex 1: 4, 12, 24, 42, 64, 92, 124, 162, 204, 252\n",
    "\n",
    "* Ref. - https://rcsr.anu.edu.au/nets/dia"
   ]
  },
  {
   "cell_type": "code",
   "execution_count": 13,
   "id": "ae04a811",
   "metadata": {},
   "outputs": [],
   "source": [
    "cif_path = \"../assets/MIL53.cif\""
   ]
  },
  {
   "cell_type": "code",
   "execution_count": 14,
   "id": "1deb889a-d1b2-46da-bddd-11196f92545e",
   "metadata": {},
   "outputs": [],
   "source": [
    "# load MOFDecomposer module to collect indices of node building block and edge building block (Step 1)\n",
    "decomposer = MOFDecomposer(cif=cif_path)\n",
    "decomposer.cleanup()\n",
    "bbs_indices = decomposer.building_block_atom_indices\n",
    "connect_sites = decomposer.connecting_sites"
   ]
  },
  {
   "cell_type": "code",
   "execution_count": 15,
   "id": "f84af73e-8ba5-4740-9a92-a24c5f1abd8f",
   "metadata": {},
   "outputs": [],
   "source": [
    "# node bbs have > 2 connecting site\n",
    "# edge bbs have only 2 connecting site\n",
    "raw_node_indices, raw_edge_indices = [], []\n",
    "\n",
    "for bbs_index in bbs_indices:\n",
    "    n_connect = 0\n",
    "    for ind in bbs_index:\n",
    "        if ind in connect_sites:\n",
    "            n_connect+=1\n",
    "    \n",
    "    raw_edge_indices.append(bbs_index) if n_connect == 2 else raw_node_indices.append(bbs_index)"
   ]
  },
  {
   "cell_type": "code",
   "execution_count": 16,
   "id": "3aa5dec9-bc85-424b-9679-5f96a436c0c3",
   "metadata": {},
   "outputs": [
    {
     "name": "stdout",
     "output_type": "stream",
     "text": [
      "Nodes\n",
      "Indices of raw node 0: {0, 65, 64, 36, 68, 7, 72, 43, 12, 48, 50, 19, 52, 53, 56, 24, 60, 31}\n",
      "Indices of raw node 1: {1, 66, 37, 6, 70, 71, 74, 42, 13, 49, 18, 51, 54, 30, 25, 58, 59, 62}\n",
      "Edges\n",
      "Indices of raw edge 0: {2, 3, 4, 5, 38, 39, 40, 41, 55, 57}\n",
      "Indices of raw edge 1: {8, 9, 10, 11, 44, 45, 46, 47, 61, 63}\n",
      "Indices of raw edge 2: {67, 69, 14, 15, 16, 17, 26, 27, 28, 29}\n",
      "Indices of raw edge 3: {32, 33, 34, 35, 73, 75, 20, 21, 22, 23}\n"
     ]
    }
   ],
   "source": [
    "print('Nodes')\n",
    "for i, l in enumerate(raw_node_indices):\n",
    "    print(\"Indices of raw node {}: {}\".format(i, l))\n",
    "\n",
    "print('Edges')\n",
    "for i, l in enumerate(raw_edge_indices):\n",
    "    print(\"Indices of raw edge {}: {}\".format(i, l))"
   ]
  },
  {
   "cell_type": "code",
   "execution_count": 17,
   "id": "58c7972c",
   "metadata": {},
   "outputs": [],
   "source": [
    "# indices can be easily visualized or identified using view() module of ase.visualize\n",
    "\n",
    "# node indices were manually collected (Step 2)\n",
    "_node_bb = [\n",
    "    {1, 18, 30, 37, 49, 51, 54, 74, 70, 71},\n",
    "    {6, 13, 25, 42, 49, 51, 58, 59, 62, 66},\n",
    "    {7, 12, 24, 43, 48, 50, 60, 64, 65, 68},\n",
    "    {0, 19, 31, 36, 48, 50, 56, 52, 53, 72}\n",
    "]\n",
    "\n",
    "# rod metal indices: 48, 49, 50, 51 (Step 3)\n",
    "_edge_bb = [\n",
    "    {2,  3,  4,  5, 38, 39, 40, 41, 55, 57},\n",
    "    {8,  9, 10, 11, 44, 45, 46, 47, 61, 63},\n",
    "    {14, 15, 16, 17, 26, 27, 28, 29, 67, 69},\n",
    "    {20, 21, 22, 23, 32, 33, 34, 35, 73, 75},\n",
    "    {48}, {49}, {50}, {51}, # rod metal indices\n",
    "]"
   ]
  },
  {
   "cell_type": "code",
   "execution_count": 18,
   "id": "4b6563dc-1933-4615-803b-8488888148e8",
   "metadata": {},
   "outputs": [
    {
     "name": "stdout",
     "output_type": "stream",
     "text": [
      "Bonds\n",
      "Bond 0: (56, 57)\n",
      "Bond 1: (54, 55)\n",
      "Bond 2: (60, 61)\n",
      "Bond 3: (62, 63)\n",
      "Bond 4: (66, 67)\n",
      "Bond 5: (68, 69)\n",
      "Bond 6: (72, 73)\n",
      "Bond 7: (74, 75)\n"
     ]
    }
   ],
   "source": [
    "# Collect bond information (Step 4)\n",
    "raw_bond = decomposer.connecting_bonds\n",
    "\n",
    "print('Bonds')\n",
    "for i, l in enumerate(raw_bond):\n",
    "    print(\"Bond {}: {}\".format(i, l))"
   ]
  },
  {
   "cell_type": "code",
   "execution_count": 19,
   "id": "cb71173f-4442-404e-9e0f-0e6279b521a4",
   "metadata": {},
   "outputs": [],
   "source": [
    "# Add (metal idx, metal idx) as bond site (Step 5)\n",
    "_bond = [(56, 57), (54, 55), (60, 61), (62, 63), (66, 67), (68, 69), (72, 73), (74, 75),\n",
    "         (48, 48), (49, 49), (50, 50), (51, 51)]"
   ]
  },
  {
   "cell_type": "code",
   "execution_count": 20,
   "id": "e48b41df",
   "metadata": {},
   "outputs": [
    {
     "name": "stdout",
     "output_type": "stream",
     "text": [
      "Coord. seq. for vertex 0: [  4  12  24  42  64  92 124 162 204 252]\n"
     ]
    }
   ],
   "source": [
    "# Get coordination sequence (Step 6)\n",
    "mil53 = ase.io.read(cif_path)\n",
    "rod_mil53 = rod_mof.RodMOF(mil53, _node_bb, _edge_bb, _bond)\n",
    "mil53_coord_seq = rod_mil53.get_coord_seq()\n",
    "\n",
    "for i, l in enumerate(mil53_coord_seq):\n",
    "    print('Coord. seq. for vertex {}: {}'.format(i, l))"
   ]
  },
  {
   "cell_type": "markdown",
   "id": "be381240",
   "metadata": {},
   "source": [
    "## 3. Find mog\n",
    "\n",
    "coordination sequence:</br>\n",
    "vertex 1: 4, 10, 24, 40, 64, 90, 120, 160, 200, 244</br>\n",
    "vertex 2: 4, 11, 24, 41, 62, 90, 122, 157, 200, 247\n",
    "\n",
    "* Notice: MIL118 does not have edge building blocks, so connecting bonds were regarded as alternative indices for edge building blocks\n",
    "\n",
    "Ref. - https://rcsr.anu.edu.au/nets/mog"
   ]
  },
  {
   "cell_type": "code",
   "execution_count": 23,
   "id": "046fa57c",
   "metadata": {},
   "outputs": [],
   "source": [
    "cif_path = \"../assets/MIL118.cif\""
   ]
  },
  {
   "cell_type": "code",
   "execution_count": 24,
   "id": "d036b215-4052-490c-8e09-fa8070d2b106",
   "metadata": {},
   "outputs": [],
   "source": [
    "# load MOFDecomposer module to collect indices of node building block and edge building block (Step 1)\n",
    "decomposer = MOFDecomposer(cif=cif_path)\n",
    "decomposer.cleanup()\n",
    "bbs_indices = decomposer.building_block_atom_indices\n",
    "connect_sites = decomposer.connecting_sites"
   ]
  },
  {
   "cell_type": "code",
   "execution_count": 25,
   "id": "e7677a24-0e66-403e-a865-87cd0b019cff",
   "metadata": {},
   "outputs": [],
   "source": [
    "# node bbs have > 2 connecting site\n",
    "# edge bbs have only 2 connecting site\n",
    "raw_node_indices, raw_edge_indices = [], []\n",
    "\n",
    "for bbs_index in bbs_indices:\n",
    "    n_connect = 0\n",
    "    for ind in bbs_index:\n",
    "        if ind in connect_sites:\n",
    "            n_connect+=1\n",
    "    \n",
    "    raw_edge_indices.append(bbs_index) if n_connect == 2 else raw_node_indices.append(bbs_index)"
   ]
  },
  {
   "cell_type": "code",
   "execution_count": 26,
   "id": "d43abd4d-1092-495e-ba8e-0a7937ecfb1c",
   "metadata": {},
   "outputs": [
    {
     "name": "stdout",
     "output_type": "stream",
     "text": [
      "Nodes\n",
      "Indices of raw node 0: {0, 1, 32, 3, 33, 37, 36, 8, 9, 11, 44, 46, 20, 21, 23, 28, 29, 31}\n",
      "Indices of raw node 1: {2, 6, 40, 41, 18, 51, 50, 22}\n",
      "Indices of raw node 2: {34, 35, 4, 5, 38, 7, 39, 12, 45, 13, 47, 16, 17, 15, 19, 24, 25, 27}\n",
      "Indices of raw node 3: {10, 43, 42, 14, 48, 49, 26, 30}\n",
      "Edges\n"
     ]
    }
   ],
   "source": [
    "print('Nodes')\n",
    "for i, l in enumerate(raw_node_indices):\n",
    "    print(\"Indices of raw node {}: {}\".format(i, l))\n",
    "\n",
    "print('Edges')\n",
    "for i, l in enumerate(raw_edge_indices):\n",
    "    print(\"Indices of raw edge {}: {}\".format(i, l))"
   ]
  },
  {
   "cell_type": "code",
   "execution_count": 27,
   "id": "28afe006-2f59-440e-8874-ba486ac566e7",
   "metadata": {},
   "outputs": [
    {
     "name": "stdout",
     "output_type": "stream",
     "text": [
      "Alternative edge indices\n",
      "Edge 0: (2, 3)\n",
      "Edge 1: (6, 7)\n",
      "Edge 2: (18, 19)\n",
      "Edge 3: (22, 23)\n",
      "Edge 4: (26, 27)\n",
      "Edge 5: (30, 31)\n",
      "Edge 6: (10, 11)\n",
      "Edge 7: (14, 15)\n"
     ]
    }
   ],
   "source": [
    "raw_edge = decomposer.connecting_bonds\n",
    "\n",
    "print('Alternative edge indices')\n",
    "for i, l in enumerate(raw_edge):\n",
    "    print(\"Edge {}: {}\".format(i, l))"
   ]
  },
  {
   "cell_type": "code",
   "execution_count": 28,
   "id": "e9582e2d",
   "metadata": {},
   "outputs": [],
   "source": [
    "# indices can be easily visualized or identified using view() module of ase.visualize\n",
    "\n",
    "# node indices were manually collected (Step 2)\n",
    "_node_bb = [\n",
    "    {5, 12, 15, 17, 24, 27, 34, 35, 38, 45},\n",
    "    {4,  7, 13, 16, 19, 25, 34, 38, 39, 47},\n",
    "    {1,  8, 11, 21, 28, 31, 32, 33, 36, 44},\n",
    "    {0,  3,  9, 20, 23, 29, 32, 36, 37, 46},\n",
    "    {2,  6, 18, 22, 40, 41, 50, 51},\n",
    "    {10, 14, 26, 30, 42, 43, 48, 49}\n",
    "]\n",
    "\n",
    "# rod metal indices: 32, 34, 36, 38 (Step 3)\n",
    "_edge_bb = [{26, 27}, {30, 31}, {10, 11}, {14, 15}, {6, 7}, {18, 19}, {2, 3}, {22, 23},\n",
    "    {32}, {34}, {36}, {38}, # rod metal indices\n",
    "]"
   ]
  },
  {
   "cell_type": "code",
   "execution_count": 29,
   "id": "f6d7ae2f-dc31-4572-91a8-30c23ca31f1e",
   "metadata": {},
   "outputs": [],
   "source": [
    "# All atoms of edge building blocks were treated similar to rod metal atom\n",
    "# For example, considering that (26, 27) is in _edge_bb, (26, 26) and (27, 27) should be involved in _bond\n",
    "_bond = [(30, 30), (26, 26), (10, 10), (14, 14), (2, 2), (22, 22), (6, 6), (18, 18),\n",
    "        (31, 31), (27, 27), (11, 11), (15, 15), (3, 3), (23, 23), (7, 7), (19, 19),\n",
    "        (32, 32), (34, 34), (36, 36), (38, 38)]"
   ]
  },
  {
   "cell_type": "code",
   "execution_count": 30,
   "id": "433ebe89",
   "metadata": {},
   "outputs": [
    {
     "name": "stdout",
     "output_type": "stream",
     "text": [
      "Coord. seq. for vertex 0: [  4  10  24  40  64  90 120 160 200 244]\n",
      "Coord. seq. for vertex 1: [  4  11  24  41  62  90 122 157 200 247]\n"
     ]
    }
   ],
   "source": [
    "# Get coordination sequence (Step 6)\n",
    "mil118 = ase.io.read(cif_path)\n",
    "rod_mil118 = rod_mof.RodMOF(mil118, _node_bb, _edge_bb, _bond)\n",
    "mil118_coord_seq = rod_mil118.get_coord_seq()\n",
    "\n",
    "for i, l in enumerate(mil118_coord_seq):\n",
    "    print('Coord. seq. for vertex {}: {}'.format(i, l))"
   ]
  },
  {
   "cell_type": "code",
   "execution_count": null,
   "id": "c4695d5e-30d5-4545-9c28-95662092e502",
   "metadata": {},
   "outputs": [],
   "source": []
  }
 ],
 "metadata": {
  "kernelspec": {
   "display_name": "Python 3 (ipykernel)",
   "language": "python",
   "name": "python3"
  },
  "language_info": {
   "codemirror_mode": {
    "name": "ipython",
    "version": 3
   },
   "file_extension": ".py",
   "mimetype": "text/x-python",
   "name": "python",
   "nbconvert_exporter": "python",
   "pygments_lexer": "ipython3",
   "version": "3.8.18"
  }
 },
 "nbformat": 4,
 "nbformat_minor": 5
}
