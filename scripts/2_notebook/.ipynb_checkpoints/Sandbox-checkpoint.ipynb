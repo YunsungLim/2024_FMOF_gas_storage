{
 "cells": [
  {
   "cell_type": "code",
   "execution_count": 1,
   "id": "3189ea9a",
   "metadata": {},
   "outputs": [],
   "source": [
    "import pathlib\n",
    "import sys\n",
    "import os\n",
    "\n",
    "import copy\n",
    "import itertools\n",
    "import random\n",
    "import collections\n",
    "import pickle\n",
    "from collections import defaultdict\n",
    "from pathlib import Path\n",
    "from itertools import chain\n",
    "\n",
    "import numpy as np\n",
    "import pandas as pd\n",
    "import networkx as nx\n",
    "import matplotlib.pyplot as plt\n",
    "\n",
    "import ase\n",
    "import ase.io\n",
    "import ase.data\n",
    "import ase.utils\n",
    "import ase.visualize\n",
    "import ase.neighborlist\n",
    "try:\n",
    "    from ase.utils import natural_cutoffs\n",
    "except Exception as e:\n",
    "    from ase.neighborlist import natural_cutoffs\n",
    "\n",
    "import pymatgen as mg\n",
    "\n",
    "import pormake\n",
    "from pormake import *\n",
    "\n",
    "import rodmof\n",
    "from rodmof import *\n",
    "from rodmof.rod_utils import *"
   ]
  },
  {
   "cell_type": "code",
   "execution_count": 2,
   "id": "91e4cf56",
   "metadata": {},
   "outputs": [],
   "source": [
    "class RodTopology(Topology):\n",
    "    def add_rod_info(self, indices):\n",
    "        self.rod_edge_indices = indices\n",
    "\n",
    "    def get_rod_permutation_info(self):\n",
    "        \"\"\"\n",
    "        {n : [T,F,T,F]}     n -> slot, \n",
    "                            True -> Rod,\n",
    "                            False-> Edge,\n",
    "        \"\"\"\n",
    "        topo_permutations = dict()\n",
    "        for i in self.node_indices:\n",
    "            rod_check = [k in self.rod_edge_indices for k in self.get_neighbor_indices(i)]\n",
    "            topo_permutations[i] = rod_check\n",
    "        return topo_permutations\n",
    "\n",
    "\n",
    "class RodBuildingBlock(BuildingBlock):\n",
    "    def add_rod_info(self, indices):\n",
    "        self.rod_indices = indices\n",
    "\n",
    "    def get_permutation_for_slot(self, topo_info):\n",
    "        \"\"\"\n",
    "        topo_info = list\n",
    "        return [0, .., .., n]\n",
    "        \"\"\"\n",
    "        permutation = [None] * len(topo_info)\n",
    "        rod_count = sum(topo_info)\n",
    "        \n",
    "        bb_rod_indices = []\n",
    "        bb_edge_indices = []\n",
    "        \n",
    "        for i, k in enumerate(self.connection_point_indices):\n",
    "            if k in self.rod_indices:\n",
    "                bb_rod_indices.append(i)\n",
    "            else:\n",
    "                bb_edge_indices.append(i)\n",
    "\n",
    "        bb_rod_indices.reverse()\n",
    "        bb_edge_indices.reverse()\n",
    "\n",
    "        for i, t in enumerate(topo_info):\n",
    "            if t:\n",
    "                # rod\n",
    "                index = bb_rod_indices.pop()\n",
    "                permutation[i] = index\n",
    "            else:\n",
    "                # edge\n",
    "                index = bb_edge_indices.pop()\n",
    "                permutation[i] = index\n",
    "\n",
    "        return permutation"
   ]
  },
  {
   "cell_type": "code",
   "execution_count": 3,
   "id": "0e0b8291",
   "metadata": {},
   "outputs": [],
   "source": [
    "topo_data = dict()\n",
    "topo_data['cds'] = dict(\n",
    "    rod_edge_index = [2,3], rod_node_index = [0]\n",
    ")\n",
    "topo_data['dia'] = dict(\n",
    "    rod_edge_index = [19,23,8,15,13,22,10,17], rod_node_index = [0]\n",
    ")\n",
    "topo_data['mog'] = dict(\n",
    "    rod_edge_index = [14,15,16,17], rod_node_index = [1]\n",
    ")"
   ]
  },
  {
   "cell_type": "code",
   "execution_count": 4,
   "id": "769ba73b",
   "metadata": {},
   "outputs": [
    {
     "name": "stdout",
     "output_type": "stream",
     "text": [
      "{'cds': Topology cds, (4)-cn, num edge types: 1, 'dia': Topology dia, (4)-cn, num edge types: 1, 'mog': Topology mog, (4,4)-cn, num edge types: 2}\n",
      "3 topologies \n"
     ]
    }
   ],
   "source": [
    "topology_names = list(topo_data.keys())\n",
    "\n",
    "topologies = dict()\n",
    "for n in topology_names:\n",
    "    t = RodTopology('../topos_and_bbs/topologies/%s.cgd'%n)\n",
    "    t.add_rod_info(topo_data[n]['rod_edge_index'])\n",
    "    topologies[n] = t\n",
    "\n",
    "print(topologies)\n",
    "print(\"%d topologies \"%len(topologies))"
   ]
  },
  {
   "cell_type": "code",
   "execution_count": 18,
   "id": "c03bcf53",
   "metadata": {},
   "outputs": [],
   "source": [
    "rod_bbs = []\n",
    "\n",
    "for bb in Path(\"../topos_and_bbs/rodbbs\").glob(\"*.xyz\"):\n",
    "    bb = RodBuildingBlock(bb)\n",
    "    bb.has_metal = True\n",
    "    indices = [int(i) for i in bb.name.split('_')[-2:]]\n",
    "    bb.add_rod_info(indices)\n",
    "    rod_bbs.append(bb)"
   ]
  },
  {
   "cell_type": "code",
   "execution_count": 24,
   "id": "350f23b9",
   "metadata": {},
   "outputs": [],
   "source": [
    "rod_bbs[4].view()"
   ]
  },
  {
   "cell_type": "code",
   "execution_count": 6,
   "id": "474641f9",
   "metadata": {},
   "outputs": [],
   "source": [
    "'''\n",
    "porphyrin - metalloporphyrin\n",
    "\n",
    "porphyrin을 아예 빼거나\n",
    "또는 metal을 rod의 metal과 일치시키거나\n",
    "'''\n",
    "\n",
    "porphyrin_bb_names = [\n",
    "    'N13',\n",
    "]\n",
    "\n",
    "si_bb_names = [\n",
    "    \"N96\",\n",
    "    \"N601\",\n",
    "    \"N585\",\n",
    "]\n",
    "\n",
    "remove_bbs = [\n",
    "    'N575', 'E106',  'E118', 'E157',\n",
    "    'E183', 'E196', 'E26', 'E58', 'E6', 'E94',\n",
    "    'N20', 'N353', 'N57', 'E114', 'E122', 'E15',\n",
    "    'E192', 'E220', 'E42', 'E67', 'E76', 'N255', \n",
    "    'N468', 'N82', 'E116', 'E146', 'E171', 'E193', \n",
    "    'E232', 'E46', 'E69', 'E83', 'N160', 'N28', 'N488',\n",
    "    'N99', 'N190', 'N484', 'N403',\n",
    "]\n",
    "\n",
    "organic_bb_names = porphyrin_bb_names + si_bb_names\n",
    "\n",
    "node_bbs = []\n",
    "for bb in Path(\"/home/lim/works/wrMOFs_CH4/rodmof_gen/PORMAKE/pormake/database/bbs/\").glob(\"N*.xyz\"):\n",
    "    bb = BuildingBlock(bb)\n",
    "    if bb.name in organic_bb_names:\n",
    "        bb.has_metal = False\n",
    "    if bb.name in remove_bbs:\n",
    "        bb.has_metal = True\n",
    "    if bb.has_metal == False:\n",
    "        node_bbs.append(bb)\n",
    "\n",
    "edge_bbs = []\n",
    "for bb in Path(\"/home/lim/works/wrMOFs_CH4/rodmof_gen/PORMAKE/pormake/database/bbs/\").glob(\"E*.xyz\"):\n",
    "    bb = BuildingBlock(bb)\n",
    "    if bb.name in remove_bbs:\n",
    "        bb.has_metal = True\n",
    "    if bb.has_metal == False:\n",
    "        edge_bbs.append(bb)"
   ]
  },
  {
   "cell_type": "code",
   "execution_count": 7,
   "id": "5c832c15",
   "metadata": {},
   "outputs": [
    {
     "name": "stdout",
     "output_type": "stream",
     "text": [
      "Rod BBs : 31\n",
      "Normal Node BBs : 103\n",
      "Edge BBs : 176\n",
      "\n",
      "Total BBs : 311\n"
     ]
    }
   ],
   "source": [
    "name2bb = {'E0':None}\n",
    "for bb in rod_bbs+node_bbs+edge_bbs:\n",
    "    name2bb[bb.name] = bb\n",
    "\n",
    "rod_names = [i.name for i in rod_bbs]\n",
    "node_names = [i.name for i in node_bbs]\n",
    "edge_names = [i.name for i in edge_bbs]  \n",
    "print(\"Rod BBs : %d\"%len(rod_bbs))\n",
    "print(\"Normal Node BBs : %d\"%len(node_bbs))\n",
    "print(\"Edge BBs : %d\\n\"%len(edge_bbs))\n",
    "print(\"Total BBs : %d\"%len(name2bb))"
   ]
  },
  {
   "cell_type": "code",
   "execution_count": 25,
   "id": "3f4abd12",
   "metadata": {},
   "outputs": [],
   "source": [
    "topologies[\"dia\"].view()"
   ]
  },
  {
   "cell_type": "code",
   "execution_count": 8,
   "id": "4c6ec137",
   "metadata": {
    "scrolled": true
   },
   "outputs": [],
   "source": [
    "topopermutations = topologies[\"dia\"].get_rod_permutation_info()"
   ]
  },
  {
   "cell_type": "code",
   "execution_count": 9,
   "id": "cd2e8e98",
   "metadata": {},
   "outputs": [
    {
     "data": {
      "text/plain": [
       "{0: [True, False, True, False],\n",
       " 1: [True, True, False, False],\n",
       " 2: [True, False, True, False],\n",
       " 3: [False, True, True, False],\n",
       " 4: [False, True, False, True],\n",
       " 5: [True, True, False, False],\n",
       " 6: [False, False, True, True],\n",
       " 7: [False, False, True, True]}"
      ]
     },
     "execution_count": 9,
     "metadata": {},
     "output_type": "execute_result"
    }
   ],
   "source": [
    "topopermutations"
   ]
  },
  {
   "cell_type": "code",
   "execution_count": 10,
   "id": "2ec9e1e5",
   "metadata": {},
   "outputs": [
    {
     "data": {
      "text/plain": [
       "[0, 1]"
      ]
     },
     "execution_count": 10,
     "metadata": {},
     "output_type": "execute_result"
    }
   ],
   "source": [
    "r1 = rod_bbs[10]\n",
    "r1.rod_indices, r1.connection_point_indices\n",
    "\n",
    "rod_connection_index = [np.where(r1.connection_point_indices == i)[0][0] for i in r1.rod_indices]\n",
    "rod_connection_index"
   ]
  },
  {
   "cell_type": "code",
   "execution_count": 11,
   "id": "13d20ed0",
   "metadata": {},
   "outputs": [
    {
     "data": {
      "text/plain": [
       "'ZESZEE_45t1_10_11'"
      ]
     },
     "execution_count": 11,
     "metadata": {},
     "output_type": "execute_result"
    }
   ],
   "source": [
    "r1.name"
   ]
  },
  {
   "cell_type": "code",
   "execution_count": 12,
   "id": "2760d5b4",
   "metadata": {},
   "outputs": [],
   "source": [
    "_node_slot = topologies[\"dia\"].get_rod_permutation_info()\n",
    "_permutation = dict()\n",
    "for i in _node_slot.keys():\n",
    "    if sum(_node_slot[i]) == 2:\n",
    "        _permutation[i] = r1.get_permutation_for_slot(_node_slot[i])"
   ]
  },
  {
   "cell_type": "code",
   "execution_count": 13,
   "id": "b74bfc6f",
   "metadata": {
    "scrolled": true
   },
   "outputs": [
    {
     "data": {
      "text/plain": [
       "{0: [0, 2, 1, 3],\n",
       " 1: [0, 1, 2, 3],\n",
       " 2: [0, 2, 1, 3],\n",
       " 3: [2, 0, 1, 3],\n",
       " 4: [2, 0, 3, 1],\n",
       " 5: [0, 1, 2, 3],\n",
       " 6: [2, 3, 0, 1],\n",
       " 7: [2, 3, 0, 1]}"
      ]
     },
     "execution_count": 13,
     "metadata": {},
     "output_type": "execute_result"
    }
   ],
   "source": [
    "_permutation"
   ]
  },
  {
   "cell_type": "code",
   "execution_count": 14,
   "id": "f1758487",
   "metadata": {},
   "outputs": [],
   "source": [
    "r1 = rod_bbs[10]"
   ]
  },
  {
   "cell_type": "code",
   "execution_count": 25,
   "id": "2fc9fe1e",
   "metadata": {},
   "outputs": [],
   "source": [
    "topology = topologies[\"dia\"]"
   ]
  },
  {
   "cell_type": "code",
   "execution_count": 20,
   "id": "637feac1",
   "metadata": {},
   "outputs": [
    {
     "data": {
      "text/plain": [
       "array([0, 1, 2, 3, 4, 5, 6, 7])"
      ]
     },
     "execution_count": 20,
     "metadata": {},
     "output_type": "execute_result"
    }
   ],
   "source": [
    "topologies[\"dia\"].node_indices"
   ]
  },
  {
   "cell_type": "code",
   "execution_count": 34,
   "id": "14087b8a",
   "metadata": {},
   "outputs": [
    {
     "data": {
      "text/plain": [
       "array([[ 2.88674988e-01,  2.88675010e-01,  1.44337503e+00],\n",
       "       [ 2.02072501e+00,  8.66025031e-01,  2.02072495e+00],\n",
       "       [ 1.44337503e+00,  2.88675010e-01,  2.88674934e-01],\n",
       "       [ 2.02072492e+00,  2.02072507e+00,  8.66024854e-01],\n",
       "       [ 2.88674901e-01,  1.44337505e+00,  2.88674934e-01],\n",
       "       [ 8.66024965e-01,  8.66025031e-01,  8.66024955e-01],\n",
       "       [ 8.66024878e-01,  2.02072507e+00,  2.02072495e+00],\n",
       "       [ 1.44337494e+00,  1.44337505e+00,  1.44337492e+00],\n",
       "       [ 5.77349977e-01,  5.77350020e-01,  1.15469999e+00],\n",
       "       [ 1.73204997e+00,  1.15470004e+00,  1.73204994e+00],\n",
       "       [ 1.15470004e+00,  0.00000000e+00, -5.04735418e-08],\n",
       "       [-1.30766139e-07,  1.73205006e+00,  5.77349945e-01],\n",
       "       [ 5.77350020e-01,  0.00000000e+00,  1.73205004e+00],\n",
       "       [-8.71774262e-08,  1.15470004e+00, -5.04735418e-08],\n",
       "       [ 1.15470000e+00,  5.77350020e-01,  5.77349945e-01],\n",
       "       [ 1.73204993e+00,  1.73205006e+00,  1.15469989e+00],\n",
       "       [ 5.77349933e-01,  1.15470004e+00,  5.77349945e-01],\n",
       "       [ 1.73205002e+00,  5.77350020e-01, -1.00947084e-07],\n",
       "       [ 1.73205006e+00,  0.00000000e+00,  5.77349945e-01],\n",
       "       [ 0.00000000e+00,  0.00000000e+00,  1.15470004e+00],\n",
       "       [-4.35887131e-08,  5.77350020e-01,  1.73205004e+00],\n",
       "       [ 1.15469991e+00,  1.73205006e+00,  1.73204994e+00],\n",
       "       [ 5.77349890e-01,  1.73205006e+00, -1.00947084e-07],\n",
       "       [ 1.15469995e+00,  1.15470004e+00,  1.15469994e+00]])"
      ]
     },
     "execution_count": 34,
     "metadata": {},
     "output_type": "execute_result"
    }
   ],
   "source": [
    "topologies[\"dia\"].atoms.positions"
   ]
  },
  {
   "cell_type": "code",
   "execution_count": 32,
   "id": "8bf990b8",
   "metadata": {},
   "outputs": [
    {
     "name": "stdout",
     "output_type": "stream",
     "text": [
      "5 0\n",
      "[0, 1]\n",
      "7 1\n",
      "[0, 1]\n",
      "2 6\n",
      "[0, 1]\n",
      "3 4\n",
      "[0, 1]\n",
      "6 0\n",
      "[0, 1]\n",
      "1 4\n",
      "[0, 1]\n",
      "5 2\n",
      "[0, 1]\n",
      "3 7\n",
      "[0, 1]\n",
      "4 5\n",
      "[0, 1]\n",
      "1 2\n",
      "[0, 1]\n",
      "3 2\n",
      "[0, 1]\n",
      "3 0\n",
      "[0, 1]\n",
      "1 0\n",
      "[0, 1]\n",
      "7 6\n",
      "[0, 1]\n",
      "4 6\n",
      "[0, 1]\n",
      "5 7\n",
      "[0, 1]\n"
     ]
    }
   ],
   "source": [
    "for i in range(8,24):\n",
    "    n1, n2 = topologies[\"dia\"].neighbor_list[i]\n",
    "\n",
    "    i1 = n1.index\n",
    "    i2 = n2.index\n",
    "    print(i1, i2)\n",
    "\n",
    "    if topology.node_types[i1] <= topology.node_types[i2]:\n",
    "        perm = [0, 1]\n",
    "    else:\n",
    "        perm = [1, 0]\n",
    "    print(perm)"
   ]
  },
  {
   "cell_type": "code",
   "execution_count": 27,
   "id": "cc4f832c",
   "metadata": {},
   "outputs": [
    {
     "data": {
      "text/plain": [
       "[0, 1]"
      ]
     },
     "execution_count": 27,
     "metadata": {},
     "output_type": "execute_result"
    }
   ],
   "source": [
    "perm"
   ]
  },
  {
   "cell_type": "code",
   "execution_count": 22,
   "id": "58db648d",
   "metadata": {},
   "outputs": [
    {
     "data": {
      "text/plain": [
       "'ZESZEE_45t1_10_11'"
      ]
     },
     "execution_count": 22,
     "metadata": {},
     "output_type": "execute_result"
    }
   ],
   "source": [
    "r1.name"
   ]
  },
  {
   "cell_type": "code",
   "execution_count": 26,
   "id": "2de965f9",
   "metadata": {},
   "outputs": [],
   "source": [
    "perm = _permutation[0]"
   ]
  },
  {
   "cell_type": "code",
   "execution_count": 27,
   "id": "92a6f2ed",
   "metadata": {},
   "outputs": [],
   "source": [
    "sub_perm = perm.copy()\n",
    "i1 = np.where(np.array(perm) == rod_connection_index[0])[0][0]\n",
    "i2 = np.where(np.array(perm) == rod_connection_index[1])[0][0]\n",
    "sub_perm[i1], sub_perm[i2] = sub_perm[i2], sub_perm[i1]"
   ]
  },
  {
   "cell_type": "code",
   "execution_count": 29,
   "id": "f805550d",
   "metadata": {},
   "outputs": [
    {
     "data": {
      "text/plain": [
       "[0, 2, 1, 3]"
      ]
     },
     "execution_count": 29,
     "metadata": {},
     "output_type": "execute_result"
    }
   ],
   "source": [
    "perm"
   ]
  },
  {
   "cell_type": "code",
   "execution_count": 28,
   "id": "6c33bc33",
   "metadata": {},
   "outputs": [
    {
     "data": {
      "text/plain": [
       "[1, 2, 0, 3]"
      ]
     },
     "execution_count": 28,
     "metadata": {},
     "output_type": "execute_result"
    }
   ],
   "source": [
    "sub_perm"
   ]
  },
  {
   "cell_type": "code",
   "execution_count": 68,
   "id": "90e9f301",
   "metadata": {},
   "outputs": [
    {
     "name": "stdout",
     "output_type": "stream",
     "text": [
      "[[ 0.57735022  0.57735027 -0.57735032]\n",
      " [-0.5773503   0.57735025  0.57735025]\n",
      " [-0.57735026 -0.5773503  -0.57735025]\n",
      " [ 0.5773503  -0.57735025  0.57735025]]\n",
      "[ 8 20 19 12]\n",
      "[10 11 12 13]\n",
      "[[-0.42214592 -0.90608274 -0.02840588]\n",
      " [-0.43613996  0.8918678  -0.11980723]\n",
      " [ 0.23343746  0.07672237  0.96934031]\n",
      " [ 0.55927815 -0.05091461 -0.82741504]]\n",
      "[[-0.42214592 -0.90608274 -0.02840588]\n",
      " [ 0.55927815 -0.05091461 -0.82741504]\n",
      " [-0.43613996  0.8918678  -0.11980723]\n",
      " [ 0.23343746  0.07672237  0.96934031]]\n"
     ]
    }
   ],
   "source": [
    "idx=0\n",
    "local0 = topologies[\"dia\"].local_structure(idx)\n",
    "\n",
    "p_atoms = np.array(local0.atoms.symbols)\n",
    "p_coord = local0.atoms.positions\n",
    "\n",
    "print(p_coord)\n",
    "print(local0.indices)\n",
    "\n",
    "#perm = _permutation[idx]\n",
    "perm = [0, 3, 1, 2]\n",
    "local1 = r1.local_structure()\n",
    "\n",
    "q_atoms = np.array(local1.atoms.symbols)\n",
    "q_coord = local1.atoms.positions\n",
    "\n",
    "print(local1.indices)\n",
    "print(q_coord)\n",
    "q_coord = q_coord[perm]\n",
    "print(q_coord)"
   ]
  },
  {
   "cell_type": "code",
   "execution_count": 61,
   "id": "ac106279",
   "metadata": {},
   "outputs": [],
   "source": [
    "import itertools\n",
    "\n",
    "import numpy as np\n",
    "import scipy"
   ]
  },
  {
   "cell_type": "code",
   "execution_count": 62,
   "id": "368c84aa",
   "metadata": {},
   "outputs": [],
   "source": [
    "U, rmsd, s = scipy.spatial.transform.Rotation.align_vectors(p_coord, q_coord, return_sensitivity=True)"
   ]
  },
  {
   "cell_type": "code",
   "execution_count": 63,
   "id": "24eef085",
   "metadata": {},
   "outputs": [
    {
     "data": {
      "text/plain": [
       "0.36749508447582296"
      ]
     },
     "execution_count": 63,
     "metadata": {},
     "output_type": "execute_result"
    }
   ],
   "source": [
    "rmsd"
   ]
  },
  {
   "cell_type": "code",
   "execution_count": 96,
   "id": "a78d8b76",
   "metadata": {},
   "outputs": [],
   "source": [
    "i1, i2 = np.where([True, False, True, False])[0]"
   ]
  },
  {
   "cell_type": "code",
   "execution_count": 97,
   "id": "187c87ad",
   "metadata": {},
   "outputs": [
    {
     "data": {
      "text/plain": [
       "(0, 2)"
      ]
     },
     "execution_count": 97,
     "metadata": {},
     "output_type": "execute_result"
    }
   ],
   "source": [
    "i1, i2"
   ]
  },
  {
   "cell_type": "code",
   "execution_count": null,
   "id": "f8225f1c",
   "metadata": {},
   "outputs": [],
   "source": []
  }
 ],
 "metadata": {
  "kernelspec": {
   "display_name": "Python 3 (ipykernel)",
   "language": "python",
   "name": "python3"
  },
  "language_info": {
   "codemirror_mode": {
    "name": "ipython",
    "version": 3
   },
   "file_extension": ".py",
   "mimetype": "text/x-python",
   "name": "python",
   "nbconvert_exporter": "python",
   "pygments_lexer": "ipython3",
   "version": "3.8.15"
  }
 },
 "nbformat": 4,
 "nbformat_minor": 5
}
