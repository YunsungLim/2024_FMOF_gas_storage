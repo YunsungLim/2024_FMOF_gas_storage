{
 "cells": [
  {
   "cell_type": "code",
   "execution_count": 1,
   "id": "58a6382d",
   "metadata": {},
   "outputs": [
    {
     "name": "stderr",
     "output_type": "stream",
     "text": [
      ">>> Console logs (under WARNING level) are disabled.\n",
      "WARNING:root:File logs (under WARNING level) are disabled.\n"
     ]
    }
   ],
   "source": [
    "# Load necessary libraries\n",
    "import sys\n",
    "import os\n",
    "\n",
    "import copy\n",
    "import random\n",
    "import collections\n",
    "from pathlib import Path\n",
    "\n",
    "import pandas as pd\n",
    "import numpy as np\n",
    "\n",
    "import pormake\n",
    "from pormake import *\n",
    "\n",
    "import rodmof\n",
    "from rodmof import *\n",
    "from rodmof.rod_utils import *\n",
    "from rodmof.rod_mof import RodTopology, RodBuildingBlock\n",
    "pormake.log.disable_print()\n",
    "pormake.log.disable_file_print()"
   ]
  },
  {
   "cell_type": "markdown",
   "id": "cd84a037",
   "metadata": {},
   "source": [
    "# 1. Load topologies and building blocks\n",
    "Cautions:\n",
    "    Need to insert the \"index of vacancy edge for rod - rod connection\" and the \"index of rod\""
   ]
  },
  {
   "cell_type": "code",
   "execution_count": 2,
   "id": "1d68b2a8",
   "metadata": {},
   "outputs": [],
   "source": [
    "## options\n",
    "topo_path = \"./rodmof/assets/topos_and_bbs/topologies/\"\n",
    "rod_bbs_path = \"./rodmof/assets/topos_and_bbs/rodbbs/\"\n",
    "\n",
    "pormake_database = pormake.Database()"
   ]
  },
  {
   "cell_type": "code",
   "execution_count": 3,
   "id": "1897a96f",
   "metadata": {},
   "outputs": [],
   "source": [
    "# Pre-define the indices for rod building block (rod_node_index) and the indices for connection between rod building blocks (rod_edge_index)\n",
    "# rod_edge_index can be identified using view() function, it can be changed as the version of pormake\n",
    "# So, highly recommend to check using following topology view() example!!, You can check via single generation example.\n",
    "## Usage example:\n",
    "## topology = pormake.Database().get_topo('cds')\n",
    "## topology.view()\n",
    "\n",
    "topo_data = dict()\n",
    "\n",
    "topo_data['cds'] = dict(\n",
    "    rod_edge_index = [2, 3], rod_node_index = [0]\n",
    ")\n",
    "topo_data['dia'] = dict(\n",
    "    rod_edge_index = [8, 12, 20, 13, 21, 15, 9, 22], rod_node_index = [0]\n",
    ")\n",
    "topo_data['mog'] = dict(\n",
    "    rod_edge_index = [14, 15, 16, 17], rod_node_index = [1]\n",
    ")"
   ]
  },
  {
   "cell_type": "code",
   "execution_count": 4,
   "id": "55ab72ae",
   "metadata": {},
   "outputs": [
    {
     "name": "stdout",
     "output_type": "stream",
     "text": [
      "{'cds': Topology cds, (4)-cn, num edge types: 1, 'dia': Topology dia, (4)-cn, num edge types: 1, 'mog': Topology mog, (4,4)-cn, num edge types: 2}\n",
      "3 topologies \n"
     ]
    }
   ],
   "source": [
    "# Show information of topologies\n",
    "topology_names = list(topo_data.keys())\n",
    "\n",
    "topologies = dict()\n",
    "for n in topology_names:\n",
    "    t = RodTopology(f'{topo_path}/{n}.cgd')\n",
    "    t.add_rod_info(topo_data[n]['rod_edge_index'])\n",
    "    topologies[n] = t\n",
    "\n",
    "print(topologies)\n",
    "print(\"%d topologies \"%len(topologies))"
   ]
  },
  {
   "cell_type": "code",
   "execution_count": 5,
   "id": "5e2de7e5",
   "metadata": {},
   "outputs": [],
   "source": [
    "rod_bbs = []\n",
    "\n",
    "for bb in Path(rod_bbs_path).glob(\"*.xyz\"):\n",
    "    bb = RodBuildingBlock(bb)\n",
    "    bb.has_metal = True\n",
    "    indices = [int(i) for i in bb.name.split('_')[-2:]]\n",
    "    bb.add_rod_info(indices)\n",
    "    rod_bbs.append(bb)"
   ]
  },
  {
   "cell_type": "code",
   "execution_count": 6,
   "id": "b3aa29e7",
   "metadata": {},
   "outputs": [],
   "source": [
    "'''\n",
    "Regard porphyrin building block and \"si\" building block as organic building blocks\n",
    "We remove specific normal building blocks in this works (ex. asymmetric linker)\n",
    "'''\n",
    "\n",
    "porphyrin_bb_names = [\n",
    "    'N13',\n",
    "]\n",
    "\n",
    "si_bb_names = [\n",
    "    \"N96\",\n",
    "    \"N601\",\n",
    "    \"N585\",\n",
    "]\n",
    "\n",
    "remove_bbs = [\n",
    "    'N575', 'E106',  'E118', 'E157',\n",
    "    'E183', 'E196', 'E26', 'E58', 'E6', 'E94',\n",
    "    'N20', 'N353', 'N57', 'E114', 'E122', 'E15',\n",
    "    'E192', 'E220', 'E42', 'E67', 'E76', 'N255', \n",
    "    'N468', 'N82', 'E116', 'E146', 'E171', 'E193', \n",
    "    'E232', 'E46', 'E69', 'E83', 'N160', 'N28', 'N488',\n",
    "    'N99', 'N190', 'N484', 'N403',\n",
    "]\n",
    "\n",
    "\n",
    "# Remove assymetric linkers\n",
    "asym_linkers_df = pd.read_csv(\"./rodmof/assets/asymmetric_linker_name.csv\", header=None, index_col=0, sep=\",\")\n",
    "asym_bbs = list(asym_linkers_df.index)\n",
    "\n",
    "organic_bb_names = porphyrin_bb_names + si_bb_names\n",
    "remove_bbs += asym_bbs\n",
    "remove_bbs = list(set(remove_bbs))"
   ]
  },
  {
   "cell_type": "code",
   "execution_count": 7,
   "id": "f09cd210-7670-4747-b7af-ece7cf645ed5",
   "metadata": {},
   "outputs": [],
   "source": [
    "node_bbs, edge_bbs = [], []\n",
    "\n",
    "for bb_name in pormake_database.bb_list:\n",
    "    bb = pormake_database.get_bb(bb_name)\n",
    "    if bb_name.startswith('N'):\n",
    "        if bb.name in organic_bb_names:\n",
    "            bb.has_metal = False\n",
    "        if bb.name in remove_bbs:\n",
    "            bb.has_metal = True\n",
    "        if bb.has_metal == False:\n",
    "            node_bbs.append(bb)\n",
    "\n",
    "    if bb_name.startswith('E'):\n",
    "        if bb.name in remove_bbs:\n",
    "            bb.has_metal = True\n",
    "        if bb.has_metal == False:\n",
    "            edge_bbs.append(bb)"
   ]
  },
  {
   "cell_type": "code",
   "execution_count": 8,
   "id": "535db81a",
   "metadata": {},
   "outputs": [
    {
     "name": "stdout",
     "output_type": "stream",
     "text": [
      "Rod BBs : 19\n",
      "Normal Node BBs : 103\n",
      "Edge BBs : 143\n",
      "\n",
      "Total BBs : 266\n"
     ]
    }
   ],
   "source": [
    "name2bb = {'E0':None}\n",
    "for bb in rod_bbs+node_bbs+edge_bbs:\n",
    "    name2bb[bb.name] = bb\n",
    "\n",
    "rod_names = [i.name for i in rod_bbs]\n",
    "node_names = [i.name for i in node_bbs]\n",
    "edge_names = [i.name for i in edge_bbs]  \n",
    "print(\"Rod BBs : %d\"%len(rod_bbs))\n",
    "print(\"Normal Node BBs : %d\"%len(node_bbs))\n",
    "print(\"Edge BBs : %d\\n\"%len(edge_bbs))\n",
    "print(\"Total BBs : %d\"%len(name2bb))"
   ]
  },
  {
   "cell_type": "markdown",
   "id": "17f23f48",
   "metadata": {},
   "source": [
    "# 2. Match rod and node using local structure for each topology\n",
    "\n",
    "This may helps for bulk generation. Initial screening of nodes and rods that cannot be fitted to the topology."
   ]
  },
  {
   "cell_type": "code",
   "execution_count": 9,
   "id": "2b6d438e",
   "metadata": {},
   "outputs": [
    {
     "name": "stderr",
     "output_type": "stream",
     "text": [
      "/home/lim/anaconda3/envs/test/lib/python3.8/site-packages/pormake/locator.py:20: UserWarning: Optimal rotation is not uniquely or poorly defined for the given sets of vectors.\n",
      "  U, rmsd = scipy.spatial.transform.Rotation.align_vectors(p, q)\n"
     ]
    }
   ],
   "source": [
    "ROD_RMSD_CUT = 0.3\n",
    "NODE_RMSD_CUT = 0.3\n",
    "\n",
    "locator = pormake.Locator()\n",
    "\n",
    "rod_seed = dict()\n",
    "node_seed = dict()\n",
    "\n",
    "for toponame in topology_names:\n",
    "    topo = topologies[toponame]\n",
    "    seed = []\n",
    "    for local in topo.unique_local_structures:\n",
    "        matched_bbs = []\n",
    "        for bb in rod_bbs:\n",
    "            if len(local.positions) == bb.n_connection_points:\n",
    "                rmsd = locator.calculate_rmsd(local, bb)\n",
    "                if rmsd < ROD_RMSD_CUT:\n",
    "                    matched_bbs.append(bb.name)\n",
    "        seed.append(matched_bbs)\n",
    "    rod_seed[toponame] = seed.copy()\n",
    "\n",
    "for toponame in topology_names:\n",
    "    topo = topologies[toponame]\n",
    "    seed = []\n",
    "    for local in topo.unique_local_structures:\n",
    "        matched_bbs = []\n",
    "        for bb in node_bbs:\n",
    "            if len(local.positions) == bb.n_connection_points:\n",
    "                rmsd = locator.calculate_rmsd(local, bb)\n",
    "                if rmsd < NODE_RMSD_CUT:\n",
    "                    matched_bbs.append(bb.name)\n",
    "        seed.append(matched_bbs)\n",
    "    node_seed[toponame] = seed.copy()"
   ]
  },
  {
   "cell_type": "markdown",
   "id": "94bf6aa1",
   "metadata": {},
   "source": [
    "# 3. MOF name generation\n",
    "For efficient generation and estimation of database size, the names of MOFs are generated in advance of real generation."
   ]
  },
  {
   "cell_type": "code",
   "execution_count": 12,
   "id": "bd43af65",
   "metadata": {},
   "outputs": [],
   "source": [
    "## options\n",
    "name_save_path = \"./MOF_names.txt\""
   ]
  },
  {
   "cell_type": "code",
   "execution_count": 13,
   "id": "53d8b1da",
   "metadata": {},
   "outputs": [],
   "source": [
    "mof_names = []\n",
    "mof_names_per_topology = dict()\n",
    "\n",
    "for toponame in topology_names:\n",
    "    count = 0\n",
    "    topo = topologies[toponame]\n",
    "    node_sites = [i for i in topo.unique_node_types \\\n",
    "                  if not i in topo_data[toponame]['rod_node_index']]\n",
    "    if node_sites:\n",
    "        node_candidates = node_seed[toponame][node_sites[0]]\n",
    "    else:\n",
    "        node_candidates = ['']\n",
    "\n",
    "    rod_sites = [i for i in topo.unique_node_types \\\n",
    "                  if i in topo_data[toponame]['rod_node_index']]\n",
    "    rod_candidates = rod_seed[toponame][rod_sites[0]]\n",
    "\n",
    "    for r in rod_candidates:\n",
    "        for c in node_candidates:\n",
    "            if c:\n",
    "                # Organic node exists -> Allow [E0:None] edge\n",
    "                non_edge_names = ['E0'] + edge_names\n",
    "                for e in non_edge_names:\n",
    "                    namelist = [toponame] + [r] + [c] + [e]\n",
    "                    name = '+'.join(namelist)\n",
    "                    mof_names.append(name)\n",
    "                    count += 1\n",
    "            else:\n",
    "                # No organic node -> Not allow [E0:None] edge\n",
    "                for e in edge_names:\n",
    "                    namelist = [toponame] + [r] + [c] + [e]\n",
    "                    name = '+'.join(namelist)\n",
    "                    mof_names.append(name)\n",
    "                    count += 1\n",
    "\n",
    "    mof_names_per_topology[toponame] = copy.deepcopy(count)"
   ]
  },
  {
   "cell_type": "code",
   "execution_count": 14,
   "id": "a92a1bfc",
   "metadata": {},
   "outputs": [
    {
     "name": "stdout",
     "output_type": "stream",
     "text": [
      "39005\n",
      "{'cds': 715, 'dia': 2002, 'mog': 36288}\n"
     ]
    }
   ],
   "source": [
    "print(len(mof_names))\n",
    "\n",
    "print(mof_names_per_topology)"
   ]
  },
  {
   "cell_type": "code",
   "execution_count": 15,
   "id": "a11f0544",
   "metadata": {},
   "outputs": [],
   "source": [
    "f = open(name_save_path, \"w\")\n",
    "for n in mof_names:\n",
    "    f.write(n)\n",
    "    f.write(\"\\n\")\n",
    "    \n",
    "f.close()"
   ]
  },
  {
   "cell_type": "markdown",
   "id": "45af3f53",
   "metadata": {},
   "source": [
    "# 4. NAME to CIF framework\n",
    "Convert name of mof into .cif file"
   ]
  },
  {
   "cell_type": "code",
   "execution_count": 27,
   "id": "35bd4516",
   "metadata": {},
   "outputs": [],
   "source": [
    "## options\n",
    "name_list_path = name_save_path\n",
    "MOF_DIR = './Bulk_gen'"
   ]
  },
  {
   "cell_type": "code",
   "execution_count": 28,
   "id": "a3f8db3b",
   "metadata": {},
   "outputs": [],
   "source": [
    "def name_to_mof(_mof_name, _topologies=topologies, _name2bb=name2bb):\n",
    "    # MOF name\n",
    "    tokens = _mof_name.split(\"+\")\n",
    "    _toponame = tokens[0]\n",
    "    _rod_names  = [tokens[1]]\n",
    "    _node_names = []\n",
    "    _edge_names = []\n",
    "    for bb in tokens[2:]:\n",
    "        if bb.startswith(\"N\"):\n",
    "            _node_names.append(bb)\n",
    "        if bb.startswith(\"E\"):\n",
    "            _edge_names.append(bb)\n",
    "\n",
    "    # Topology\n",
    "    _topology = _topologies[_toponame]\n",
    "\n",
    "    # Rod BB\n",
    "    _rod = [_name2bb[n] for n in _rod_names]\n",
    "    \n",
    "    # Node, Edge\n",
    "    _node = [_name2bb[n] for n in _node_names]\n",
    "    _edge = [_name2bb[n] for n in _edge_names]\n",
    "    \n",
    "    # NODE INSERT\n",
    "    _all_nodes = {}\n",
    "    for i in _topology.unique_node_types:\n",
    "        if i in topo_data[_toponame]['rod_node_index']:\n",
    "            _all_nodes[i] = _rod[0]\n",
    "        else:\n",
    "            _all_nodes[i] = _node[0]\n",
    "\n",
    "\n",
    "    _builder = Builder()\n",
    "    _bbs = _builder.make_bbs_by_type(_topology, _all_nodes)\n",
    "\n",
    "    # EDGE INSERT\n",
    "    for i in _topology.edge_indices:\n",
    "        if i not in _topology.rod_edge_indices:\n",
    "            _bbs[i] = _edge[0]\n",
    "\n",
    "    # PERMUTATION FOR ROD-MOF\n",
    "    if _rod[0].n_connection_points == 4:\n",
    "        _node_slot = _topology.get_rod_permutation_info()\n",
    "        _permutation = dict()\n",
    "        for i in _node_slot.keys():\n",
    "            if sum(_node_slot[i]) == 2:\n",
    "                _permutation[i] = _rod[0].get_permutation_for_slot(_node_slot[i])\n",
    "    else:\n",
    "        _permutation = None\n",
    "    \n",
    "    _rod_connection_index = [np.where(_rod[0].connection_point_indices == i)[0][0] for i in _rod[0].rod_indices]\n",
    "\n",
    "    _mof = _builder.build(_topology, _bbs, permutations=_permutation, rod_connection_indices=_rod_connection_index)\n",
    "    return _mof"
   ]
  },
  {
   "cell_type": "code",
   "execution_count": 29,
   "id": "a0365be1",
   "metadata": {},
   "outputs": [],
   "source": [
    "# helpers\n",
    "def pick(list_like):\n",
    "    return random.sample(list_like, 1)[0]\n",
    "\n",
    "def count_normal_atoms(bb):\n",
    "    if bb is None:\n",
    "        return 0\n",
    "    else:\n",
    "        return np.sum(bb.atoms.get_chemical_symbols() != np.array(\"X\"))\n",
    "\n",
    "def calculate_n_atoms_of_rodmof(_mof_name, _topologies=topologies, _name2bb=name2bb):\n",
    "    # MOF name\n",
    "    tokens = _mof_name.split(\"+\")\n",
    "    _toponame = tokens[0]\n",
    "    _rod_names  = [tokens[1]]\n",
    "    _node_names = []\n",
    "    _edge_names = []\n",
    "    for bb in tokens[2:]:\n",
    "        if bb.startswith(\"N\"):\n",
    "            _node_names.append(bb)\n",
    "        if bb.startswith(\"E\"):\n",
    "            _edge_names.append(bb)\n",
    "\n",
    "    # Topology\n",
    "    _topology = _topologies[_toponame]    \n",
    "    # Rod BB\n",
    "    _rod = [_name2bb[n] for n in _rod_names]\n",
    "    # Node, Edge\n",
    "    _node = [_name2bb[n] for n in _node_names]\n",
    "    _edge = [_name2bb[n] for n in _edge_names]\n",
    "\n",
    "    # NODE INSERT\n",
    "    _all_nodes = {}\n",
    "    for i in _topology.unique_node_types:\n",
    "        if i in topo_data[_toponame]['rod_node_index']:\n",
    "            _all_nodes[i] = _rod[0]\n",
    "        else:\n",
    "            _all_nodes[i] = _node[0]\n",
    "    \n",
    "    nt_counts = {}\n",
    "    for nt in _topology.unique_node_types:\n",
    "        n_nt = np.sum(_topology.node_types == nt)\n",
    "        nt_counts[nt] = n_nt\n",
    "\n",
    "    et_counts = len(_topology.edge_indices) - len(_topology.rod_edge_indices)\n",
    "\n",
    "    counts = 0\n",
    "    for nt, bb in _all_nodes.items():\n",
    "        counts += nt_counts[nt] * count_normal_atoms(bb)\n",
    "\n",
    "    counts += et_counts * count_normal_atoms(_edge[0])\n",
    "    return counts"
   ]
  },
  {
   "cell_type": "code",
   "execution_count": 30,
   "id": "b016a6d4",
   "metadata": {},
   "outputs": [],
   "source": [
    "lines = open(name_list_path,'r').readlines()\n",
    "name_list = [line.rstrip() for line in lines]\n",
    "\n",
    "ERROR_LOG = 'error_log.txt'"
   ]
  },
  {
   "cell_type": "code",
   "execution_count": 31,
   "id": "20dc6da9",
   "metadata": {},
   "outputs": [],
   "source": [
    "error_file = open(ERROR_LOG, 'w')\n",
    "\n",
    "for i, name in enumerate(name_list):\n",
    "    try:\n",
    "        tokens = name.split(\"+\")\n",
    "        topo = tokens[0]\n",
    "\n",
    "        # frameworks are classified as topology\n",
    "        _MOF_DIR = MOF_DIR+f\"/{topo}/\"\n",
    "\n",
    "        if not os.path.exists(_MOF_DIR):\n",
    "            os.makedirs(_MOF_DIR)\n",
    "\n",
    "        # exclude large frameworks (# of atoms > 1000) for convenience during molecular simulation\n",
    "        n_atoms = calculate_n_atoms_of_rodmof(name)\n",
    "        if n_atoms > 1000:\n",
    "            continue\n",
    "\n",
    "        mof = name_to_mof(name)\n",
    "        new_mof = clean_rod_mof(mof)\n",
    "\n",
    "        new_mof.write_cif(_MOF_DIR+name+'.cif')\n",
    "    \n",
    "    except Exception as e:\n",
    "        print(name)\n",
    "        print(e)\n",
    "        print(name, file=error_file)\n",
    "        \n",
    "error_file.close()"
   ]
  },
  {
   "cell_type": "code",
   "execution_count": null,
   "id": "df8d7db9-106d-4ea7-b536-b54f7db4bead",
   "metadata": {},
   "outputs": [],
   "source": []
  }
 ],
 "metadata": {
  "kernelspec": {
   "display_name": "Python 3 (ipykernel)",
   "language": "python",
   "name": "python3"
  },
  "language_info": {
   "codemirror_mode": {
    "name": "ipython",
    "version": 3
   },
   "file_extension": ".py",
   "mimetype": "text/x-python",
   "name": "python",
   "nbconvert_exporter": "python",
   "pygments_lexer": "ipython3",
   "version": "3.8.18"
  }
 },
 "nbformat": 4,
 "nbformat_minor": 5
}
