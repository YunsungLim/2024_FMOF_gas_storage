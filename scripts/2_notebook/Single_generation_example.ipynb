{
 "cells": [
  {
   "cell_type": "code",
   "execution_count": 1,
   "id": "01b08a1f",
   "metadata": {},
   "outputs": [],
   "source": [
    "# Load necessary libraries\n",
    "import pormake\n",
    "from pormake import *\n",
    "\n",
    "import rodmof\n",
    "from rodmof import *\n",
    "from rodmof.rod_utils import *\n",
    "from rodmof.rod_mof import RodTopology, RodBuildingBlock\n",
    "\n",
    "import ase\n",
    "from ase.visualize import view"
   ]
  },
  {
   "cell_type": "code",
   "execution_count": 2,
   "id": "32d33e14",
   "metadata": {},
   "outputs": [],
   "source": [
    "# options\n",
    "# topologies and rod building blocks are provided in the assets directory in the rodmof directory\n",
    "topo_path = \"./rodmof/assets/topos_and_bbs/topologies/\"\n",
    "rod_bbs_path = \"./rodmof/assets/topos_and_bbs/rodbbs/\"\n",
    "\n",
    "pormake_database = pormake.Database()"
   ]
  },
  {
   "cell_type": "code",
   "execution_count": 3,
   "id": "2e6504d1",
   "metadata": {},
   "outputs": [],
   "source": [
    "# Pre-define the indices for rod building block (rod_node_index) and the indices for connection between rod building blocks (rod_edge_index)\n",
    "# rod_edge_index can be identified using view() function, it can be changed as the version of pormake\n",
    "# So, highly recommend to check using following topology view() example!!\n",
    "## Usage example:\n",
    "## topology = pormake.Database().get_topo('cds')\n",
    "## topology.view()\n",
    "\n",
    "topo_data = dict()\n",
    "\n",
    "topo_data['cds'] = dict(\n",
    "    rod_edge_index = [2, 3], rod_node_index = [0]\n",
    ")\n",
    "topo_data['dia'] = dict(\n",
    "    rod_edge_index = [8, 12, 20, 13, 21, 15, 9, 22], rod_node_index = [0]\n",
    ")\n",
    "topo_data['mog'] = dict(\n",
    "    rod_edge_index = [14, 15, 16, 17], rod_node_index = [1]\n",
    ")"
   ]
  },
  {
   "cell_type": "markdown",
   "id": "66939ecb",
   "metadata": {},
   "source": [
    "# Example 1. Generate Co bdp\n",
    "\n",
    "* Topology: cds\n",
    "* Rod: SOHGUS_cds_16_17\n",
    "* Node: None\n",
    "* Edge : E14"
   ]
  },
  {
   "cell_type": "code",
   "execution_count": 4,
   "id": "3654a0a6",
   "metadata": {},
   "outputs": [],
   "source": [
    "topo_name = \"cds\"\n",
    "rod_name = \"SOHGUS_cds_16_17\"\n",
    "node_name = []\n",
    "edge_name = \"E14\"\n",
    "\n",
    "save_name = \"Co_bdp\""
   ]
  },
  {
   "cell_type": "code",
   "execution_count": 5,
   "id": "9dd13bef",
   "metadata": {},
   "outputs": [],
   "source": [
    "# load topology data\n",
    "# Add rod related information (rod index & rod-rod edge index)\n",
    "topology = RodTopology(f'{topo_path}/{topo_name}.cgd')\n",
    "topology.add_rod_info(topo_data[topo_name]['rod_edge_index'])"
   ]
  },
  {
   "cell_type": "code",
   "execution_count": 6,
   "id": "6c92fb9a",
   "metadata": {},
   "outputs": [],
   "source": [
    "# load rod building blcck\n",
    "# Add rod-rod connection point for efficient generation\n",
    "# Naming rule for rod building block: REFCODE_topology_index1_index2, index1 and 2 should be the indices of connection points\n",
    "rod = RodBuildingBlock(f\"{rod_bbs_path}/{rod_name}.xyz\")\n",
    "rod.has_metal = True\n",
    "perm_indices = [int(i) for i in rod.name.split('_')[-2:]]\n",
    "rod.add_rod_info(perm_indices)"
   ]
  },
  {
   "cell_type": "code",
   "execution_count": 7,
   "id": "26e4b83f-f527-4221-b7be-db8793e3ca25",
   "metadata": {},
   "outputs": [],
   "source": [
    "# load edge building block\n",
    "node = pormake_database.get_bb(node_name) if node_name else None\n",
    "edge = pormake_database.get_bb(edge_name) if edge_name else None"
   ]
  },
  {
   "cell_type": "code",
   "execution_count": 8,
   "id": "02429592",
   "metadata": {},
   "outputs": [
    {
     "name": "stderr",
     "output_type": "stream",
     "text": [
      ">>> No edge building block for type (0, 0) in edge_bbs.\n",
      ">>> Use given permutation for node slot index 0, permutation: [0 2 1 3]\n",
      ">>> Pre-location of node slot 0, RMSD: 7.13E-02\n",
      ">>> Use given permutation for node slot index 1, permutation: [0 1 2 3]\n",
      ">>> Pre-location of node slot 1, RMSD: 7.13E-02\n",
      ">>> Topology optimization starts.\n",
      "No GPU/TPU found, falling back to CPU. (Set TF_CPP_MIN_LOG_LEVEL=0 and rerun for more info.)\n",
      ">>> MESSAGE: CONVERGENCE: NORM_OF_PROJECTED_GRADIENT_<=_PGTOL\n",
      ">>> SUCCESS: True\n",
      ">>> ITER: 11\n",
      ">>> OBJ: 0.000\n",
      ">>> Location at node slot 0, (node type: 0, node bb: SOHGUS_cds_16_17), RMSD: 7.18E-02\n",
      ">>> Location at node slot 1, (node type: 0, node bb: SOHGUS_cds_16_17), RMSD: 7.01E-02\n",
      ">>> Start placing edges.\n",
      "/home/lim/anaconda3/envs/test/lib/python3.8/site-packages/pormake/locator.py:20: UserWarning: Optimal rotation is not uniquely or poorly defined for the given sets of vectors.\n",
      "  U, rmsd = scipy.spatial.transform.Rotation.align_vectors(p, q)\n",
      ">>> Start finding bonds in generated framework.\n",
      ">>> Start finding bonds in building blocks.\n",
      ">>> Start finding bonds between building blocks.\n",
      ">>> Start making Framework instance.\n",
      ">>> Construction of framework done.\n"
     ]
    }
   ],
   "source": [
    "# Generation\n",
    "all_nodes = {}\n",
    "for i in topology.unique_node_types:\n",
    "    all_nodes[i] = rod if i in topo_data[topology.name]['rod_node_index'] else node\n",
    "        \n",
    "builder = Builder()\n",
    "bbs = builder.make_bbs_by_type(topology, all_nodes)\n",
    "\n",
    "for i in topology.edge_indices:\n",
    "    if i not in topology.rod_edge_indices:\n",
    "        bbs[i] = edge\n",
    "\n",
    "# PERMUTATION FOR ROD-MOF\n",
    "if rod.n_connection_points == 4:\n",
    "    node_slot = topology.get_rod_permutation_info()\n",
    "    _permutation = dict()\n",
    "    for i in node_slot.keys():\n",
    "        if sum(node_slot[i]) == 2:\n",
    "            _permutation[i] = rod.get_permutation_for_slot(node_slot[i])\n",
    "else:\n",
    "    _permutation = None\n",
    "\n",
    "_rod_connection_index = [np.where(rod.connection_point_indices == i)[0][0] for i in rod.rod_indices]\n",
    "\n",
    "mof = builder.build(topology, bbs, permutations=_permutation, rod_connection_indices=_rod_connection_index)\n",
    "\n",
    "new_mof = clean_rod_mof(mof)"
   ]
  },
  {
   "cell_type": "code",
   "execution_count": 9,
   "id": "3466a862",
   "metadata": {},
   "outputs": [
    {
     "name": "stderr",
     "output_type": "stream",
     "text": [
      "/home/lim/anaconda3/envs/test/lib/python3.8/site-packages/ase/utils/__init__.py:62: FutureWarning: Please use atoms.cell.cellpar() instead\n",
      "  warnings.warn(warning)\n"
     ]
    }
   ],
   "source": [
    "# write to cif\n",
    "new_mof.write_cif(f\"{save_name}.cif\")"
   ]
  },
  {
   "cell_type": "code",
   "execution_count": 10,
   "id": "29f7df7a-1096-470a-a2ec-1d7701d4ff0b",
   "metadata": {},
   "outputs": [
    {
     "name": "stderr",
     "output_type": "stream",
     "text": [
      "/home/lim/anaconda3/envs/test/lib/python3.8/site-packages/ase/io/cif.py:401: UserWarning: crystal system 'triclinic' is not interpreted for space group Spacegroup(1, setting=1). This may result in wrong setting!\n",
      "  warnings.warn(\n"
     ]
    },
    {
     "data": {
      "text/plain": [
       "<subprocess.Popen at 0x7fa7181b6dc0>"
      ]
     },
     "execution_count": 10,
     "metadata": {},
     "output_type": "execute_result"
    }
   ],
   "source": [
    "# load generated framework and view as ase module\n",
    "atoms = ase.io.read(f\"{save_name}.cif\")\n",
    "view(atoms)"
   ]
  },
  {
   "cell_type": "markdown",
   "id": "6605fead",
   "metadata": {},
   "source": [
    "# Example 2. Generate MIL53 (Al)\n",
    "\n",
    "* Topology: dia\n",
    "* Rod: ZESZEE_t1_10_11\n",
    "* Node: None\n",
    "* Edge : E14"
   ]
  },
  {
   "cell_type": "code",
   "execution_count": 11,
   "id": "0474d427",
   "metadata": {},
   "outputs": [],
   "source": [
    "topo_name = \"dia\"\n",
    "rod_name = \"ZESZEE_45t1_10_11\"\n",
    "node_name = []\n",
    "edge_name = \"E14\"\n",
    "\n",
    "save_name = \"MIL53_Al\""
   ]
  },
  {
   "cell_type": "code",
   "execution_count": 12,
   "id": "5c66a865",
   "metadata": {},
   "outputs": [],
   "source": [
    "# load topology data\n",
    "# Add rod related information (rod index & rod-rod edge index)\n",
    "topology = RodTopology(f'{topo_path}/{topo_name}.cgd')\n",
    "topology.add_rod_info(topo_data[topo_name]['rod_edge_index'])"
   ]
  },
  {
   "cell_type": "code",
   "execution_count": 13,
   "id": "48e47f13",
   "metadata": {},
   "outputs": [],
   "source": [
    "# load rod building blcck\n",
    "# Add rod-rod connection point for efficient generation\n",
    "# Naming rule for rod building block: REFCODE_topology_index1_index2, index1 and 2 should be the indices of connection points\n",
    "rod = RodBuildingBlock(f\"{rod_bbs_path}/{rod_name}.xyz\")\n",
    "rod.has_metal = True\n",
    "perm_indices = [int(i) for i in rod.name.split('_')[-2:]]\n",
    "rod.add_rod_info(perm_indices)"
   ]
  },
  {
   "cell_type": "code",
   "execution_count": 14,
   "id": "80da8ed2",
   "metadata": {},
   "outputs": [],
   "source": [
    "# load edge building block\n",
    "node = pormake_database.get_bb(node_name) if node_name else None\n",
    "edge = pormake_database.get_bb(edge_name) if edge_name else None"
   ]
  },
  {
   "cell_type": "code",
   "execution_count": 15,
   "id": "8b788e46",
   "metadata": {},
   "outputs": [
    {
     "name": "stderr",
     "output_type": "stream",
     "text": [
      ">>> No edge building block for type (0, 0) in edge_bbs.\n",
      ">>> Use given permutation for node slot index 0, permutation: [0 2 3 1]\n",
      ">>> Pre-location of node slot 0, RMSD: 1.84E-01\n",
      ">>> Use given permutation for node slot index 1, permutation: [2 0 3 1]\n",
      ">>> Pre-location of node slot 1, RMSD: 1.84E-01\n",
      ">>> Use given permutation for node slot index 2, permutation: [2 0 3 1]\n",
      ">>> Pre-location of node slot 2, RMSD: 1.84E-01\n",
      ">>> Use given permutation for node slot index 3, permutation: [2 3 0 1]\n",
      ">>> Pre-location of node slot 3, RMSD: 1.84E-01\n",
      ">>> Use given permutation for node slot index 4, permutation: [2 0 3 1]\n",
      ">>> Pre-location of node slot 4, RMSD: 1.84E-01\n",
      ">>> Use given permutation for node slot index 5, permutation: [2 0 1 3]\n",
      ">>> Pre-location of node slot 5, RMSD: 1.84E-01\n",
      ">>> Use given permutation for node slot index 6, permutation: [0 2 3 1]\n",
      ">>> Pre-location of node slot 6, RMSD: 1.84E-01\n",
      ">>> Use given permutation for node slot index 7, permutation: [0 1 2 3]\n",
      ">>> Pre-location of node slot 7, RMSD: 1.84E-01\n",
      ">>> Topology optimization starts.\n",
      ">>> MESSAGE: CONVERGENCE: REL_REDUCTION_OF_F_<=_FACTR*EPSMCH\n",
      ">>> SUCCESS: True\n",
      ">>> ITER: 55\n",
      ">>> OBJ: 0.000\n",
      ">>> Location at node slot 0, (node type: 0, node bb: ZESZEE_45t1_10_11), RMSD: 1.34E-01\n",
      ">>> Location at node slot 1, (node type: 0, node bb: ZESZEE_45t1_10_11), RMSD: 1.34E-01\n",
      ">>> Location at node slot 2, (node type: 0, node bb: ZESZEE_45t1_10_11), RMSD: 1.34E-01\n",
      ">>> Location at node slot 3, (node type: 0, node bb: ZESZEE_45t1_10_11), RMSD: 1.34E-01\n",
      ">>> Location at node slot 4, (node type: 0, node bb: ZESZEE_45t1_10_11), RMSD: 1.34E-01\n",
      ">>> Location at node slot 5, (node type: 0, node bb: ZESZEE_45t1_10_11), RMSD: 1.34E-01\n",
      ">>> Location at node slot 6, (node type: 0, node bb: ZESZEE_45t1_10_11), RMSD: 1.34E-01\n",
      ">>> Location at node slot 7, (node type: 0, node bb: ZESZEE_45t1_10_11), RMSD: 1.34E-01\n",
      ">>> Start placing edges.\n",
      ">>> Start finding bonds in generated framework.\n",
      ">>> Start finding bonds in building blocks.\n",
      ">>> Start finding bonds between building blocks.\n",
      ">>> Start making Framework instance.\n",
      ">>> Construction of framework done.\n"
     ]
    }
   ],
   "source": [
    "# Generation\n",
    "all_nodes = {}\n",
    "for i in topology.unique_node_types:\n",
    "    all_nodes[i] = rod if i in topo_data[topology.name]['rod_node_index'] else node\n",
    "        \n",
    "builder = Builder()\n",
    "bbs = builder.make_bbs_by_type(topology, all_nodes)\n",
    "\n",
    "for i in topology.edge_indices:\n",
    "    if i not in topology.rod_edge_indices:\n",
    "        bbs[i] = edge\n",
    "\n",
    "# PERMUTATION FOR ROD-MOF\n",
    "if rod.n_connection_points == 4:\n",
    "    node_slot = topology.get_rod_permutation_info()\n",
    "    _permutation = dict()\n",
    "    for i in node_slot.keys():\n",
    "        if sum(node_slot[i]) == 2:\n",
    "            _permutation[i] = rod.get_permutation_for_slot(node_slot[i])\n",
    "else:\n",
    "    _permutation = None\n",
    "\n",
    "_rod_connection_index = [np.where(rod.connection_point_indices == i)[0][0] for i in rod.rod_indices]\n",
    "\n",
    "mof = builder.build(topology, bbs, permutations=_permutation, rod_connection_indices=_rod_connection_index)\n",
    "\n",
    "new_mof = clean_rod_mof(mof)"
   ]
  },
  {
   "cell_type": "code",
   "execution_count": 16,
   "id": "30c66cfe",
   "metadata": {},
   "outputs": [],
   "source": [
    "# write to cif\n",
    "new_mof.write_cif(f\"{save_name}.cif\")"
   ]
  },
  {
   "cell_type": "code",
   "execution_count": 17,
   "id": "3edb23ed-aad4-4b21-9755-f33b869f8e5b",
   "metadata": {},
   "outputs": [
    {
     "data": {
      "text/plain": [
       "<subprocess.Popen at 0x7fa7f19cffa0>"
      ]
     },
     "execution_count": 17,
     "metadata": {},
     "output_type": "execute_result"
    }
   ],
   "source": [
    "atoms = ase.io.read(f\"{save_name}.cif\")\n",
    "view(atoms)"
   ]
  },
  {
   "cell_type": "markdown",
   "id": "60757e69",
   "metadata": {},
   "source": [
    "# Example 3. Generate MIL118\n",
    "\n",
    "* Topology: mog\n",
    "* Rod: ZESZEE_t1_10_11\n",
    "* Node: N4\n",
    "* Edge : None"
   ]
  },
  {
   "cell_type": "code",
   "execution_count": 19,
   "id": "1810cbf6",
   "metadata": {},
   "outputs": [],
   "source": [
    "topo_name = \"mog\"\n",
    "rod_name = \"ZESZEE_45t1_10_11\"\n",
    "node_name = 'N4'\n",
    "edge_name = []\n",
    "\n",
    "save_name = \"MIL118\""
   ]
  },
  {
   "cell_type": "code",
   "execution_count": 20,
   "id": "d405c7f3",
   "metadata": {},
   "outputs": [],
   "source": [
    "# load topology data\n",
    "# Add rod related information (rod index & rod-rod edge index)\n",
    "# Naming rule for rod building block: REFCODE_topology_index1_index2, index1 and 2 should be the indices of connection points\n",
    "topology = RodTopology(f'{topo_path}/{topo_name}.cgd')\n",
    "topology.add_rod_info(topo_data[topo_name]['rod_edge_index'])"
   ]
  },
  {
   "cell_type": "code",
   "execution_count": 21,
   "id": "57053a5b",
   "metadata": {},
   "outputs": [],
   "source": [
    "# load rod building blcck\n",
    "# Add rod-rod connection point for efficient generation\n",
    "rod = RodBuildingBlock(f\"{rod_bbs_path}/{rod_name}.xyz\")\n",
    "rod.has_metal = True\n",
    "perm_indices = [int(i) for i in rod.name.split('_')[-2:]]\n",
    "rod.add_rod_info(perm_indices)"
   ]
  },
  {
   "cell_type": "code",
   "execution_count": 22,
   "id": "3fd76890",
   "metadata": {},
   "outputs": [],
   "source": [
    "# load edge building block\n",
    "node = pormake_database.get_bb(node_name) if node_name else None\n",
    "edge = pormake_database.get_bb(edge_name) if edge_name else None"
   ]
  },
  {
   "cell_type": "code",
   "execution_count": 23,
   "id": "c11ef736",
   "metadata": {},
   "outputs": [
    {
     "name": "stderr",
     "output_type": "stream",
     "text": [
      ">>> No edge building block for type (0, 1) in edge_bbs.\n",
      ">>> No edge building block for type (1, 1) in edge_bbs.\n",
      ">>> == Min RMSD of (node type: 0, node bb: N4): 1.87E-01\n",
      ">>> Pre-location at node slot 0, (node type: 0, node bb: N4), RMSD: 3.34E-01\n",
      ">>> RMSD > MIN_RMSD*1.01, relocate Node 0 with 216 trial orientations, RMSD: 1.87E-01\n",
      ">>> Pre-location at node slot 1, (node type: 0, node bb: N4), RMSD: 3.34E-01\n",
      ">>> RMSD > MIN_RMSD*1.01, relocate Node 1 with 216 trial orientations, RMSD: 1.87E-01\n",
      ">>> Use given permutation for node slot index 2, permutation: [2 0 3 1]\n",
      ">>> Pre-location of node slot 2, RMSD: 1.69E-01\n",
      ">>> Use given permutation for node slot index 3, permutation: [0 2 3 1]\n",
      ">>> Pre-location of node slot 3, RMSD: 1.69E-01\n",
      ">>> Use given permutation for node slot index 4, permutation: [0 2 3 1]\n",
      ">>> Pre-location of node slot 4, RMSD: 1.69E-01\n",
      ">>> Use given permutation for node slot index 5, permutation: [0 2 3 1]\n",
      ">>> Pre-location of node slot 5, RMSD: 1.69E-01\n",
      ">>> Topology optimization starts.\n",
      ">>> MESSAGE: CONVERGENCE: REL_REDUCTION_OF_F_<=_FACTR*EPSMCH\n",
      ">>> SUCCESS: True\n",
      ">>> ITER: 36\n",
      ">>> OBJ: 0.006\n",
      ">>> Location at node slot 0, (node type: 0, node bb: N4), RMSD: 3.86E-02\n",
      ">>> Location at node slot 1, (node type: 0, node bb: N4), RMSD: 3.85E-02\n",
      ">>> Location at node slot 2, (node type: 1, node bb: ZESZEE_45t1_10_11), RMSD: 3.18E-02\n",
      ">>> Location at node slot 3, (node type: 1, node bb: ZESZEE_45t1_10_11), RMSD: 3.18E-02\n",
      ">>> Location at node slot 4, (node type: 1, node bb: ZESZEE_45t1_10_11), RMSD: 3.18E-02\n",
      ">>> Location at node slot 5, (node type: 1, node bb: ZESZEE_45t1_10_11), RMSD: 3.17E-02\n",
      ">>> Start placing edges.\n",
      ">>> Start finding bonds in generated framework.\n",
      ">>> Start finding bonds in building blocks.\n",
      ">>> Start finding bonds between building blocks.\n",
      ">>> Start making Framework instance.\n",
      ">>> Construction of framework done.\n"
     ]
    }
   ],
   "source": [
    "# Generation\n",
    "all_nodes = {}\n",
    "for i in topology.unique_node_types:\n",
    "    all_nodes[i] = rod if i in topo_data[topology.name]['rod_node_index'] else node\n",
    "        \n",
    "builder = Builder()\n",
    "bbs = builder.make_bbs_by_type(topology, all_nodes)\n",
    "\n",
    "for i in topology.edge_indices:\n",
    "    if i not in topology.rod_edge_indices:\n",
    "        bbs[i] = edge\n",
    "\n",
    "# PERMUTATION FOR ROD-MOF\n",
    "if rod.n_connection_points == 4:\n",
    "    node_slot = topology.get_rod_permutation_info()\n",
    "    _permutation = dict()\n",
    "    for i in node_slot.keys():\n",
    "        if sum(node_slot[i]) == 2:\n",
    "            _permutation[i] = rod.get_permutation_for_slot(node_slot[i])\n",
    "else:\n",
    "    _permutation = None\n",
    "\n",
    "_rod_connection_index = [np.where(rod.connection_point_indices == i)[0][0] for i in rod.rod_indices]\n",
    "\n",
    "mof = builder.build(topology, bbs, permutations=_permutation, rod_connection_indices=_rod_connection_index)\n",
    "\n",
    "new_mof = clean_rod_mof(mof)"
   ]
  },
  {
   "cell_type": "code",
   "execution_count": 24,
   "id": "ddeddf27",
   "metadata": {},
   "outputs": [],
   "source": [
    "# write to cif\n",
    "new_mof.write_cif(f\"{save_name}.cif\")"
   ]
  },
  {
   "cell_type": "code",
   "execution_count": 25,
   "id": "3d93d7c2",
   "metadata": {},
   "outputs": [
    {
     "data": {
      "text/plain": [
       "<subprocess.Popen at 0x7fa7f0155eb0>"
      ]
     },
     "execution_count": 25,
     "metadata": {},
     "output_type": "execute_result"
    }
   ],
   "source": [
    "atoms = ase.io.read(f\"{save_name}.cif\")\n",
    "view(atoms)"
   ]
  },
  {
   "cell_type": "code",
   "execution_count": null,
   "id": "210c68a7-8b1d-4250-b40b-e5ef4cc61860",
   "metadata": {},
   "outputs": [],
   "source": []
  }
 ],
 "metadata": {
  "kernelspec": {
   "display_name": "Python 3 (ipykernel)",
   "language": "python",
   "name": "python3"
  },
  "language_info": {
   "codemirror_mode": {
    "name": "ipython",
    "version": 3
   },
   "file_extension": ".py",
   "mimetype": "text/x-python",
   "name": "python",
   "nbconvert_exporter": "python",
   "pygments_lexer": "ipython3",
   "version": "3.8.18"
  }
 },
 "nbformat": 4,
 "nbformat_minor": 5
}
